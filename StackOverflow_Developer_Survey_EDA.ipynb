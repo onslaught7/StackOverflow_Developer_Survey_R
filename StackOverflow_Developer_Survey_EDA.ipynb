{
 "cells": [
  {
   "cell_type": "code",
   "execution_count": 1,
   "id": "b9da0bf7",
   "metadata": {
    "_execution_state": "idle",
    "_uuid": "051d70d956493feee0c6d64651c6a088724dca2a",
    "execution": {
     "iopub.execute_input": "2024-09-17T05:52:37.861034Z",
     "iopub.status.busy": "2024-09-17T05:52:37.858270Z",
     "iopub.status.idle": "2024-09-17T05:52:38.015444Z",
     "shell.execute_reply": "2024-09-17T05:52:38.013465Z"
    },
    "papermill": {
     "duration": 0.165609,
     "end_time": "2024-09-17T05:52:38.018039",
     "exception": false,
     "start_time": "2024-09-17T05:52:37.852430",
     "status": "completed"
    },
    "tags": []
   },
   "outputs": [
    {
     "data": {
      "text/html": [
       "'stack-overflow-annual-developer-survey-2024'"
      ],
      "text/latex": [
       "'stack-overflow-annual-developer-survey-2024'"
      ],
      "text/markdown": [
       "'stack-overflow-annual-developer-survey-2024'"
      ],
      "text/plain": [
       "[1] \"stack-overflow-annual-developer-survey-2024\""
      ]
     },
     "metadata": {},
     "output_type": "display_data"
    }
   ],
   "source": [
    "list.files(path = \"../input\")"
   ]
  },
  {
   "cell_type": "code",
   "execution_count": 2,
   "id": "e06365f5",
   "metadata": {
    "execution": {
     "iopub.execute_input": "2024-09-17T05:52:38.062997Z",
     "iopub.status.busy": "2024-09-17T05:52:38.024887Z",
     "iopub.status.idle": "2024-09-17T05:52:46.357413Z",
     "shell.execute_reply": "2024-09-17T05:52:46.355407Z"
    },
    "papermill": {
     "duration": 8.340546,
     "end_time": "2024-09-17T05:52:46.361230",
     "exception": false,
     "start_time": "2024-09-17T05:52:38.020684",
     "status": "completed"
    },
    "tags": []
   },
   "outputs": [],
   "source": [
    "survey_public_2024 = read.csv('/kaggle/input/stack-overflow-annual-developer-survey-2024/survey_results_public.csv')"
   ]
  },
  {
   "cell_type": "code",
   "execution_count": 3,
   "id": "bc266829",
   "metadata": {
    "execution": {
     "iopub.execute_input": "2024-09-17T05:52:46.370047Z",
     "iopub.status.busy": "2024-09-17T05:52:46.368461Z",
     "iopub.status.idle": "2024-09-17T05:52:47.851397Z",
     "shell.execute_reply": "2024-09-17T05:52:47.849446Z"
    },
    "papermill": {
     "duration": 1.490323,
     "end_time": "2024-09-17T05:52:47.854402",
     "exception": false,
     "start_time": "2024-09-17T05:52:46.364079",
     "status": "completed"
    },
    "tags": []
   },
   "outputs": [
    {
     "name": "stderr",
     "output_type": "stream",
     "text": [
      "── \u001b[1mAttaching core tidyverse packages\u001b[22m ──────────────────────── tidyverse 2.0.0 ──\n",
      "\u001b[32m✔\u001b[39m \u001b[34mdplyr    \u001b[39m 1.1.4     \u001b[32m✔\u001b[39m \u001b[34mreadr    \u001b[39m 2.1.5\n",
      "\u001b[32m✔\u001b[39m \u001b[34mforcats  \u001b[39m 1.0.0     \u001b[32m✔\u001b[39m \u001b[34mstringr  \u001b[39m 1.5.1\n",
      "\u001b[32m✔\u001b[39m \u001b[34mggplot2  \u001b[39m 3.5.1     \u001b[32m✔\u001b[39m \u001b[34mtibble   \u001b[39m 3.2.1\n",
      "\u001b[32m✔\u001b[39m \u001b[34mlubridate\u001b[39m 1.9.3     \u001b[32m✔\u001b[39m \u001b[34mtidyr    \u001b[39m 1.3.1\n",
      "\u001b[32m✔\u001b[39m \u001b[34mpurrr    \u001b[39m 1.0.2     \n"
     ]
    },
    {
     "name": "stderr",
     "output_type": "stream",
     "text": [
      "── \u001b[1mConflicts\u001b[22m ────────────────────────────────────────── tidyverse_conflicts() ──\n",
      "\u001b[31m✖\u001b[39m \u001b[34mdplyr\u001b[39m::\u001b[32mfilter()\u001b[39m masks \u001b[34mstats\u001b[39m::filter()\n",
      "\u001b[31m✖\u001b[39m \u001b[34mdplyr\u001b[39m::\u001b[32mlag()\u001b[39m    masks \u001b[34mstats\u001b[39m::lag()\n",
      "\u001b[36mℹ\u001b[39m Use the conflicted package (\u001b[3m\u001b[34m<http://conflicted.r-lib.org/>\u001b[39m\u001b[23m) to force all conflicts to become errors\n"
     ]
    },
    {
     "name": "stderr",
     "output_type": "stream",
     "text": [
      "\n",
      "Attaching package: ‘plotly’\n",
      "\n",
      "\n"
     ]
    },
    {
     "name": "stderr",
     "output_type": "stream",
     "text": [
      "The following object is masked from ‘package:ggplot2’:\n",
      "\n",
      "    last_plot\n",
      "\n",
      "\n"
     ]
    },
    {
     "name": "stderr",
     "output_type": "stream",
     "text": [
      "The following object is masked from ‘package:stats’:\n",
      "\n",
      "    filter\n",
      "\n",
      "\n"
     ]
    },
    {
     "name": "stderr",
     "output_type": "stream",
     "text": [
      "The following object is masked from ‘package:graphics’:\n",
      "\n",
      "    layout\n",
      "\n",
      "\n"
     ]
    },
    {
     "name": "stderr",
     "output_type": "stream",
     "text": [
      "The following object is masked from ‘package:httr’:\n",
      "\n",
      "    config\n",
      "\n",
      "\n"
     ]
    }
   ],
   "source": [
    "library(tidyverse)\n",
    "library(lubridate)\n",
    "library(dplyr)\n",
    "library(ggplot2)\n",
    "library(tidyr)\n",
    "library(plotly)"
   ]
  },
  {
   "cell_type": "code",
   "execution_count": 4,
   "id": "eae8cad1",
   "metadata": {
    "execution": {
     "iopub.execute_input": "2024-09-17T05:52:47.865260Z",
     "iopub.status.busy": "2024-09-17T05:52:47.863163Z",
     "iopub.status.idle": "2024-09-17T05:52:47.972912Z",
     "shell.execute_reply": "2024-09-17T05:52:47.970777Z"
    },
    "papermill": {
     "duration": 0.117891,
     "end_time": "2024-09-17T05:52:47.975912",
     "exception": false,
     "start_time": "2024-09-17T05:52:47.858021",
     "status": "completed"
    },
    "tags": []
   },
   "outputs": [
    {
     "name": "stdout",
     "output_type": "stream",
     "text": [
      "'data.frame':\t65437 obs. of  114 variables:\n",
      " $ ResponseId                    : int  1 2 3 4 5 6 7 8 9 10 ...\n",
      " $ MainBranch                    : chr  \"I am a developer by profession\" \"I am a developer by profession\" \"I am a developer by profession\" \"I am learning to code\" ...\n",
      " $ Age                           : chr  \"Under 18 years old\" \"35-44 years old\" \"45-54 years old\" \"18-24 years old\" ...\n",
      " $ Employment                    : chr  \"Employed, full-time\" \"Employed, full-time\" \"Employed, full-time\" \"Student, full-time\" ...\n",
      " $ RemoteWork                    : chr  \"Remote\" \"Remote\" \"Remote\" NA ...\n",
      " $ Check                         : chr  \"Apples\" \"Apples\" \"Apples\" \"Apples\" ...\n",
      " $ CodingActivities              : chr  \"Hobby\" \"Hobby;Contribute to open-source projects;Other (please specify):\" \"Hobby;Contribute to open-source projects;Other (please specify):\" NA ...\n",
      " $ EdLevel                       : chr  \"Primary/elementary school\" \"Bachelor’s degree (B.A., B.S., B.Eng., etc.)\" \"Master’s degree (M.A., M.S., M.Eng., MBA, etc.)\" \"Some college/university study without earning a degree\" ...\n",
      " $ LearnCode                     : chr  \"Books / Physical media\" \"Books / Physical media;Colleague;On the job training;Other online resources (e.g., videos, blogs, forum, online community)\" \"Books / Physical media;Colleague;On the job training;Other online resources (e.g., videos, blogs, forum, online\"| __truncated__ \"Other online resources (e.g., videos, blogs, forum, online community);School (i.e., University, College, etc);O\"| __truncated__ ...\n",
      " $ LearnCodeOnline               : chr  NA \"Technical documentation;Blogs;Books;Written Tutorials;Stack Overflow\" \"Technical documentation;Blogs;Books;Written Tutorials;Stack Overflow;Coding sessions (live or recorded);Social Media\" \"Stack Overflow;How-to videos;Interactive tutorial\" ...\n",
      " $ TechDoc                       : chr  NA \"API document(s) and/or SDK document(s);User guides or README files found in the source repository;First-party k\"| __truncated__ \"API document(s) and/or SDK document(s);User guides or README files found in the source repository;Traditional p\"| __truncated__ NA ...\n",
      " $ YearsCode                     : chr  NA \"20\" \"37\" \"4\" ...\n",
      " $ YearsCodePro                  : chr  NA \"17\" \"27\" NA ...\n",
      " $ DevType                       : chr  NA \"Developer, full-stack\" \"Developer Experience\" \"Developer, full-stack\" ...\n",
      " $ OrgSize                       : chr  NA NA NA NA ...\n",
      " $ PurchaseInfluence             : chr  NA NA NA NA ...\n",
      " $ BuyNewTool                    : chr  NA NA NA NA ...\n",
      " $ BuildvsBuy                    : chr  NA NA NA NA ...\n",
      " $ TechEndorse                   : chr  NA NA NA NA ...\n",
      " $ Country                       : chr  \"United States of America\" \"United Kingdom of Great Britain and Northern Ireland\" \"United Kingdom of Great Britain and Northern Ireland\" \"Canada\" ...\n",
      " $ Currency                      : chr  NA NA NA NA ...\n",
      " $ CompTotal                     : num  NA NA NA NA NA NA NA NA NA NA ...\n",
      " $ LanguageHaveWorkedWith        : chr  NA \"Bash/Shell (all shells);Go;HTML/CSS;Java;JavaScript;Python;TypeScript\" \"C#\" \"C;C++;HTML/CSS;Java;JavaScript;PHP;PowerShell;Python;SQL;TypeScript\" ...\n",
      " $ LanguageWantToWorkWith        : chr  NA \"Bash/Shell (all shells);Go;HTML/CSS;Java;JavaScript;Kotlin;Python;TypeScript\" \"C#\" \"HTML/CSS;Java;JavaScript;PowerShell;Python;SQL;TypeScript\" ...\n",
      " $ LanguageAdmired               : chr  NA \"Bash/Shell (all shells);Go;HTML/CSS;Java;JavaScript;Python;TypeScript\" \"C#\" \"HTML/CSS;Java;JavaScript;PowerShell;Python;SQL;TypeScript\" ...\n",
      " $ DatabaseHaveWorkedWith        : chr  NA \"Dynamodb;MongoDB;PostgreSQL\" \"Firebase Realtime Database\" \"MongoDB;MySQL;PostgreSQL;SQLite\" ...\n",
      " $ DatabaseWantToWorkWith        : chr  NA \"PostgreSQL\" \"Firebase Realtime Database\" \"MongoDB;MySQL;PostgreSQL\" ...\n",
      " $ DatabaseAdmired               : chr  NA \"PostgreSQL\" \"Firebase Realtime Database\" \"MongoDB;MySQL;PostgreSQL\" ...\n",
      " $ PlatformHaveWorkedWith        : chr  NA \"Amazon Web Services (AWS);Heroku;Netlify\" \"Google Cloud\" \"Amazon Web Services (AWS);Fly.io;Heroku\" ...\n",
      " $ PlatformWantToWorkWith        : chr  NA \"Amazon Web Services (AWS);Heroku;Netlify\" \"Google Cloud\" \"Amazon Web Services (AWS);Vercel\" ...\n",
      " $ PlatformAdmired               : chr  NA \"Amazon Web Services (AWS);Heroku;Netlify\" \"Google Cloud\" \"Amazon Web Services (AWS)\" ...\n",
      " $ WebframeHaveWorkedWith        : chr  NA \"Express;Next.js;Node.js;React\" \"ASP.NET CORE\" \"jQuery;Next.js;Node.js;React;WordPress\" ...\n",
      " $ WebframeWantToWorkWith        : chr  NA \"Express;Htmx;Node.js;React;Remix\" \"ASP.NET CORE\" \"jQuery;Next.js;Node.js;React\" ...\n",
      " $ WebframeAdmired               : chr  NA \"Express;Node.js;React\" \"ASP.NET CORE\" \"jQuery;Next.js;Node.js;React\" ...\n",
      " $ EmbeddedHaveWorkedWith        : chr  NA NA \"Rasberry Pi\" \"Rasberry Pi\" ...\n",
      " $ EmbeddedWantToWorkWith        : chr  NA NA \"Rasberry Pi\" NA ...\n",
      " $ EmbeddedAdmired               : chr  NA NA \"Rasberry Pi\" NA ...\n",
      " $ MiscTechHaveWorkedWith        : chr  NA NA \".NET (5+) ;.NET Framework (1.0 - 4.8);.NET MAUI\" \"NumPy;Pandas;Ruff;TensorFlow\" ...\n",
      " $ MiscTechWantToWorkWith        : chr  NA NA \".NET (5+) ;.NET Framework (1.0 - 4.8);.NET MAUI\" NA ...\n",
      " $ MiscTechAdmired               : chr  NA NA \".NET (5+) ;.NET Framework (1.0 - 4.8);.NET MAUI\" NA ...\n",
      " $ ToolsTechHaveWorkedWith       : chr  NA \"Docker;Homebrew;Kubernetes;npm;Vite;Webpack\" \"MSBuild\" \"Docker;npm;Pip\" ...\n",
      " $ ToolsTechWantToWorkWith       : chr  NA \"Docker;Homebrew;Kubernetes;npm;Vite;Webpack\" \"MSBuild\" \"Docker;Kubernetes;npm\" ...\n",
      " $ ToolsTechAdmired              : chr  NA \"Docker;Homebrew;Kubernetes;npm;Vite;Webpack\" \"MSBuild\" \"Docker;npm\" ...\n",
      " $ NEWCollabToolsHaveWorkedWith  : chr  NA \"PyCharm;Visual Studio Code;WebStorm\" \"Visual Studio\" NA ...\n",
      " $ NEWCollabToolsWantToWorkWith  : chr  NA \"PyCharm;Visual Studio Code;WebStorm\" \"Visual Studio\" NA ...\n",
      " $ NEWCollabToolsAdmired         : chr  NA \"PyCharm;Visual Studio Code;WebStorm\" \"Visual Studio\" NA ...\n",
      " $ OpSysPersonal.use             : chr  NA \"MacOS;Windows\" \"Windows\" NA ...\n",
      " $ OpSysProfessional.use         : chr  NA \"MacOS\" \"Windows\" NA ...\n",
      " $ OfficeStackAsyncHaveWorkedWith: chr  NA NA NA NA ...\n",
      " $ OfficeStackAsyncWantToWorkWith: chr  NA NA NA NA ...\n",
      " $ OfficeStackAsyncAdmired       : chr  NA NA NA NA ...\n",
      " $ OfficeStackSyncHaveWorkedWith : chr  NA \"Microsoft Teams;Slack\" \"Google Chat;Google Meet;Microsoft Teams;Zoom\" NA ...\n",
      " $ OfficeStackSyncWantToWorkWith : chr  NA \"Slack\" \"Google Chat;Google Meet;Zoom\" NA ...\n",
      " $ OfficeStackSyncAdmired        : chr  NA \"Slack\" \"Google Chat;Google Meet;Zoom\" NA ...\n",
      " $ AISearchDevHaveWorkedWith     : chr  NA NA NA NA ...\n",
      " $ AISearchDevWantToWorkWith     : chr  NA NA NA NA ...\n",
      " $ AISearchDevAdmired            : chr  NA NA NA NA ...\n",
      " $ NEWSOSites                    : chr  \"I have never visited Stack Overflow or the Stack Exchange network\" \"Stack Overflow for Teams (private knowledge sharing & collaboration platform for companies);Stack Overflow;Stack Exchange\" \"Stack Overflow;Stack Exchange;Stack Overflow Blog or Podcast\" \"Stack Overflow\" ...\n",
      " $ SOVisitFreq                   : chr  NA \"Multiple times per day\" \"Multiple times per day\" \"Daily or almost daily\" ...\n",
      " $ SOAccount                     : chr  NA \"Yes\" \"Yes\" \"No\" ...\n",
      " $ SOPartFreq                    : chr  NA \"Multiple times per day\" \"Multiple times per day\" NA ...\n",
      " $ SOHow                         : chr  NA \"Quickly finding code solutions;Finding reliable guidance from community-vetted answers;Showcase expertise with \"| __truncated__ \"Quickly finding code solutions;Finding reliable guidance from community-vetted answers;Showcase expertise with \"| __truncated__ \"Quickly finding code solutions\" ...\n",
      " $ SOComm                        : chr  NA \"Yes, definitely\" \"Yes, definitely\" \"No, not really\" ...\n",
      " $ AISelect                      : chr  \"Yes\" \"No, and I don't plan to\" \"No, and I don't plan to\" \"Yes\" ...\n",
      " $ AISent                        : chr  \"Very favorable\" NA NA \"Very favorable\" ...\n",
      " $ AIBen                         : chr  \"Increase productivity\" NA NA \"Increase productivity;Greater efficiency;Improve collaboration;Speed up learning;Improve accuracy in coding\" ...\n",
      " $ AIAcc                         : chr  NA NA NA \"Somewhat trust\" ...\n",
      " $ AIComplex                     : chr  NA NA NA \"Bad at handling complex tasks\" ...\n",
      " $ AIToolCurrently.Using         : chr  NA NA NA \"Learning about a codebase;Project planning;Writing code;Documenting code;Debugging and getting help;Deployment \"| __truncated__ ...\n",
      " $ AIToolInterested.in.Using     : chr  NA NA NA \"Testing code;Committing and reviewing code;Predictive analytics\" ...\n",
      " $ AIToolNot.interested.in.Using : chr  NA NA NA \"\" ...\n",
      " $ AINextMuch.more.integrated    : chr  NA NA NA \"Learning about a codebase;Project planning;Writing code;Documenting code;Debugging and getting help;Deployment \"| __truncated__ ...\n",
      " $ AINextNo.change               : chr  NA NA NA \"\" ...\n",
      " $ AINextMore.integrated         : chr  NA NA NA \"\" ...\n",
      " $ AINextLess.integrated         : chr  NA NA NA \"\" ...\n",
      " $ AINextMuch.less.integrated    : chr  NA NA NA \"\" ...\n",
      " $ AIThreat                      : chr  NA NA NA \"No\" ...\n",
      " $ AIEthics                      : chr  NA NA NA \"Circulating misinformation or disinformation;Missing or incorrect attribution for sources of data\" ...\n",
      " $ AIChallenges                  : chr  NA NA NA \"Don’t trust the output or answers\" ...\n",
      " $ TBranch                       : chr  \"No\" \"Yes\" \"No\" NA ...\n",
      " $ ICorPM                        : chr  NA \"Individual contributor\" NA NA ...\n",
      " $ WorkExp                       : int  NA 17 NA NA NA NA NA NA NA NA ...\n",
      " $ Knowledge_1                   : chr  NA \"Agree\" NA NA ...\n",
      " $ Knowledge_2                   : chr  NA \"Disagree\" NA NA ...\n",
      " $ Knowledge_3                   : chr  NA \"Agree\" NA NA ...\n",
      " $ Knowledge_4                   : chr  NA \"Agree\" NA NA ...\n",
      " $ Knowledge_5                   : chr  NA \"Agree\" NA NA ...\n",
      " $ Knowledge_6                   : chr  NA \"Neither agree nor disagree\" NA NA ...\n",
      " $ Knowledge_7                   : chr  NA \"Disagree\" NA NA ...\n",
      " $ Knowledge_8                   : chr  NA \"Agree\" NA NA ...\n",
      " $ Knowledge_9                   : chr  NA \"Agree\" NA NA ...\n",
      " $ Frequency_1                   : chr  NA NA NA NA ...\n",
      " $ Frequency_2                   : chr  NA NA NA NA ...\n",
      " $ Frequency_3                   : chr  NA NA NA NA ...\n",
      " $ TimeSearching                 : chr  NA NA NA NA ...\n",
      " $ TimeAnswering                 : chr  NA NA NA NA ...\n",
      " $ Frustration                   : chr  NA NA NA NA ...\n",
      " $ ProfessionalTech              : chr  NA NA NA NA ...\n",
      " $ ProfessionalCloud             : chr  NA NA NA NA ...\n",
      "  [list output truncated]\n"
     ]
    }
   ],
   "source": [
    "str(survey_public_2024)"
   ]
  }
 ],
 "metadata": {
  "kaggle": {
   "accelerator": "none",
   "dataSources": [
    {
     "datasetId": 5525708,
     "sourceId": 9147975,
     "sourceType": "datasetVersion"
    }
   ],
   "dockerImageVersionId": 30749,
   "isGpuEnabled": false,
   "isInternetEnabled": true,
   "language": "r",
   "sourceType": "notebook"
  },
  "kernelspec": {
   "display_name": "R",
   "language": "R",
   "name": "ir"
  },
  "language_info": {
   "codemirror_mode": "r",
   "file_extension": ".r",
   "mimetype": "text/x-r-source",
   "name": "R",
   "pygments_lexer": "r",
   "version": "4.4.0"
  },
  "papermill": {
   "default_parameters": {},
   "duration": 13.514261,
   "end_time": "2024-09-17T05:52:48.101337",
   "environment_variables": {},
   "exception": null,
   "input_path": "__notebook__.ipynb",
   "output_path": "__notebook__.ipynb",
   "parameters": {},
   "start_time": "2024-09-17T05:52:34.587076",
   "version": "2.6.0"
  }
 },
 "nbformat": 4,
 "nbformat_minor": 5
}
